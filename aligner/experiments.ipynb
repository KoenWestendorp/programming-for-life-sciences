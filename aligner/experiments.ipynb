{
 "cells": [
  {
   "cell_type": "code",
   "execution_count": 1,
   "id": "6cb9b2cd-da6c-4a48-beb9-e9d0137816f6",
   "metadata": {},
   "outputs": [
    {
     "data": {
      "application/vnd.jupyter.widget-view+json": {
       "model_id": "42989a2f65294cc883ca96e05d5e94ea",
       "version_major": 2,
       "version_minor": 0
      },
      "text/plain": []
     },
     "metadata": {},
     "output_type": "display_data"
    }
   ],
   "source": [
    "import MDAnalysis as mda\n",
    "import numpy as np\n",
    "import nglview as nv\n",
    "from pprint import pprint"
   ]
  },
  {
   "cell_type": "code",
   "execution_count": 2,
   "id": "edcc9657-879e-4ce0-9c41-900a56701f06",
   "metadata": {},
   "outputs": [],
   "source": [
    "pdb_file = \"6XDC_icn3d.pdb\""
   ]
  },
  {
   "cell_type": "code",
   "execution_count": 3,
   "id": "0a77fe9f-ef7d-4e12-9ddb-37f626fc1352",
   "metadata": {},
   "outputs": [],
   "source": [
    "u = mda.Universe(pdb_file)\n",
    "protein = u.select_atoms('protein')"
   ]
  },
  {
   "cell_type": "markdown",
   "id": "da4d45ba",
   "metadata": {},
   "source": [
    "## Following a tutorial\n",
    "\n",
    "The following cells comprise my running through the tutorial [Advanced NGLview usage](https://projects.volkamerlab.org/teachopencadd/talktorials/T017_advanced_nglview_usage.html?highlight=nglview) by Jaime Rodríguez-Guerra and Dominique Sydow, 2021, Volkamer lab, Charité."
   ]
  },
  {
   "cell_type": "code",
   "execution_count": 4,
   "id": "5ec04a53-eac0-429d-82d2-46654d86239a",
   "metadata": {},
   "outputs": [
    {
     "data": {
      "application/vnd.jupyter.widget-view+json": {
       "model_id": "4c8eb84c51304e769d79a1b41ed24db5",
       "version_major": 2,
       "version_minor": 0
      },
      "text/plain": [
       "NGLWidget()"
      ]
     },
     "metadata": {},
     "output_type": "display_data"
    }
   ],
   "source": [
    "view = nv.show_pdbid(\"3pk2\", default_representation=False)\n",
    "view.add_cartoon(\"protein\")\n",
    "view.add_ball_and_stick(\"ligand\")\n",
    "view.add_ball_and_stick(\"water\")\n",
    "view"
   ]
  },
  {
   "cell_type": "code",
   "execution_count": 5,
   "id": "b45c230f",
   "metadata": {},
   "outputs": [
    {
     "name": "stdout",
     "output_type": "stream",
     "text": [
      "[' ',\n",
      " 'picking',\n",
      " 'random',\n",
      " 'uniform',\n",
      " 'atomindex',\n",
      " 'residueindex',\n",
      " 'chainindex',\n",
      " 'modelindex',\n",
      " 'sstruc',\n",
      " 'element',\n",
      " 'resname',\n",
      " 'bfactor',\n",
      " 'hydrophobicity',\n",
      " 'value',\n",
      " 'volume',\n",
      " 'occupancy']\n"
     ]
    }
   ],
   "source": [
    "# The available color schemes\n",
    "pprint(nv.color.COLOR_SCHEMES)"
   ]
  },
  {
   "cell_type": "code",
   "execution_count": 18,
   "id": "a277bd37",
   "metadata": {},
   "outputs": [],
   "source": [
    "# Create a custom color scheme based on the sequence alignments I make\n",
    "\n",
    "import aligner.prot_align as al\n",
    "\n",
    "al.Aligner( )\n",
    "nv.color.ColormakerRegistry.add_selection_scheme(\n",
    "    \"alignment\", [[\"blue\", \"1-10\"], [\"red\", \"11-1000\"]]\n",
    ")"
   ]
  },
  {
   "cell_type": "code",
   "execution_count": 16,
   "id": "bae01dfc-eb24-414c-b2a2-2d42e2561207",
   "metadata": {},
   "outputs": [
    {
     "data": {
      "application/vnd.jupyter.widget-view+json": {
       "model_id": "ee9fff92e09b4b6fbaf9cc36f31eae61",
       "version_major": 2,
       "version_minor": 0
      },
      "text/plain": [
       "NGLWidget()"
      ]
     },
     "metadata": {},
     "output_type": "display_data"
    }
   ],
   "source": [
    "view = nv.show_pdbid(\"1rfo\", default_representation=False)\n",
    "view.center()\n",
    "view.add_cartoon(color_scheme=\"alignment\")\n",
    "view"
   ]
  },
  {
   "cell_type": "code",
   "execution_count": null,
   "id": "63741d0e-27a1-426b-874a-5477f2a482d0",
   "metadata": {},
   "outputs": [],
   "source": []
  },
  {
   "cell_type": "code",
   "execution_count": null,
   "id": "95b082f2",
   "metadata": {},
   "outputs": [],
   "source": []
  }
 ],
 "metadata": {
  "kernelspec": {
   "display_name": "Python 3 (ipykernel)",
   "language": "python",
   "name": "python3"
  },
  "language_info": {
   "codemirror_mode": {
    "name": "ipython",
    "version": 3
   },
   "file_extension": ".py",
   "mimetype": "text/x-python",
   "name": "python",
   "nbconvert_exporter": "python",
   "pygments_lexer": "ipython3",
   "version": "3.10.4"
  }
 },
 "nbformat": 4,
 "nbformat_minor": 5
}
